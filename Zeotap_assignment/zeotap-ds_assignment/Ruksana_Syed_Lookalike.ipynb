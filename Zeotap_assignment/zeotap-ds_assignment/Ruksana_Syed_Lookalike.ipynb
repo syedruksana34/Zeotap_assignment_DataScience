{
 "cells": [
  {
   "cell_type": "code",
   "execution_count": 3,
   "id": "4b2a09bc-9814-4f30-aa0e-d75f07e4be5d",
   "metadata": {},
   "outputs": [],
   "source": [
    "# Import required libraries\n",
    "import pandas as pd\n",
    "import numpy as np\n",
    "from sklearn.preprocessing import StandardScaler\n",
    "from sklearn.metrics.pairwise import cosine_similarity\n",
    "\n",
    "# Load the datasets\n",
    "customers_df = pd.read_csv('Customers.csv')\n",
    "products_df = pd.read_csv('Products.csv')\n",
    "transactions_df = pd.read_csv('Transactions.csv')\n",
    "\n",
    "# Convert date columns\n",
    "customers_df['SignupDate'] = pd.to_datetime(customers_df['SignupDate'])\n",
    "transactions_df['TransactionDate'] = pd.to_datetime(transactions_df['TransactionDate'])"
   ]
  },
  {
   "cell_type": "code",
   "execution_count": 4,
   "id": "d6f3b44e-c59a-4e87-8dbc-e94baeeaccd2",
   "metadata": {},
   "outputs": [],
   "source": [
    "# Create customer features\n",
    "customer_features = transactions_df.groupby('CustomerID').agg({\n",
    "    'TotalValue': ['sum', 'mean', 'std'],\n",
    "    'Quantity': ['sum', 'mean'],\n",
    "    'ProductID': 'nunique',\n",
    "    'TransactionID': 'count'\n",
    "}).reset_index()\n",
    "\n",
    "# Flatten column names\n",
    "customer_features.columns = ['CustomerID', 'total_spend', 'avg_transaction', 'std_transaction', \n",
    "                           'total_quantity', 'avg_quantity', 'unique_products', 'transaction_count']\n",
    "\n",
    "# Add customer region (one-hot encoded)\n",
    "region_dummies = pd.get_dummies(customers_df['Region'], prefix='region')\n",
    "customer_features = pd.merge(customer_features, \n",
    "                           pd.concat([customers_df[['CustomerID']], region_dummies], axis=1),\n",
    "                           on='CustomerID')\n",
    "\n",
    "# Handle missing values\n",
    "customer_features = customer_features.fillna(0)"
   ]
  },
  {
   "cell_type": "code",
   "execution_count": 7,
   "id": "5c14c8e4-81fd-4bdd-9c1f-be67c89bd84c",
   "metadata": {},
   "outputs": [],
   "source": [
    "# Scale features\n",
    "scaler = StandardScaler()\n",
    "feature_columns = customer_features.columns.drop('CustomerID')\n",
    "scaled_features = scaler.fit_transform(customer_features[feature_columns])\n",
    "\n",
    "# Calculate similarity matrix\n",
    "similarity_matrix = cosine_similarity(scaled_features)\n",
    "\n",
    "# Create customer index mapping\n",
    "customer_indices = {cust_id: idx for idx, cust_id in enumerate(customer_features['CustomerID'])}"
   ]
  },
  {
   "cell_type": "code",
   "execution_count": 9,
   "id": "9ac074b9-34e5-4acb-a051-608fbfcc3604",
   "metadata": {},
   "outputs": [
    {
     "name": "stdout",
     "output_type": "stream",
     "text": [
      "Lookalike results saved to CSV file\n",
      "\n",
      "First few recommendations:\n",
      "  CustomerID Similar1_ID  Similar1_Score Similar2_ID  Similar2_Score  \\\n",
      "0      C0001       C0107          0.9725       C0011          0.9550   \n",
      "1      C0002       C0186          0.9430       C0043          0.9065   \n",
      "2      C0003       C0190          0.8435       C0091          0.8258   \n",
      "3      C0004       C0102          0.9517       C0113          0.9242   \n",
      "4      C0005       C0186          0.9531       C0177          0.9436   \n",
      "\n",
      "  Similar3_ID  Similar3_Score  \n",
      "0       C0191          0.9496  \n",
      "1       C0056          0.8914  \n",
      "2       C0129          0.7951  \n",
      "3       C0104          0.9187  \n",
      "4       C0146          0.9421  \n"
     ]
    }
   ],
   "source": [
    "def get_top_3_lookalikes(customer_id):\n",
    "    \"\"\"Get top 3 similar customers for a given customer ID\"\"\"\n",
    "    if customer_id not in customer_indices:\n",
    "        return []\n",
    "    \n",
    "    idx = customer_indices[customer_id]\n",
    "    similarities = similarity_matrix[idx]\n",
    "    \n",
    "    # Get top 3 similar customers (excluding self)\n",
    "    similar_indices = np.argsort(similarities)[::-1][1:4]\n",
    "    \n",
    "    return [(customer_features.iloc[i]['CustomerID'], \n",
    "             round(similarities[i], 4)) \n",
    "            for i in similar_indices]\n",
    "\n",
    "# Generate recommendations for first 20 customers\n",
    "results = []\n",
    "for cust_id in customers_df['CustomerID'].iloc[:20]:\n",
    "    similar_customers = get_top_3_lookalikes(cust_id)\n",
    "    results.append({\n",
    "        'CustomerID': cust_id,\n",
    "        'Similar1_ID': similar_customers[0][0],\n",
    "        'Similar1_Score': similar_customers[0][1],\n",
    "        'Similar2_ID': similar_customers[1][0],\n",
    "        'Similar2_Score': similar_customers[1][1],\n",
    "        'Similar3_ID': similar_customers[2][0],\n",
    "        'Similar3_Score': similar_customers[2][1]\n",
    "    })\n",
    "\n",
    "# Create and save results DataFrame\n",
    "lookalike_df = pd.DataFrame(results)\n",
    "lookalike_df.to_csv('Siddharth_Poonam_Lookalike.csv', index=False)\n",
    "print(\"Lookalike results saved to CSV file\")\n",
    "print(\"\\nFirst few recommendations:\")\n",
    "print(lookalike_df.head())"
   ]
  },
  {
   "cell_type": "code",
   "execution_count": 11,
   "id": "b16e1cc2-8b47-4b75-b026-9479d2f8ba47",
   "metadata": {},
   "outputs": [
    {
     "data": {
      "image/png": "[encoded data removed]",
      "text/plain": [
       "<Figure size 1000x600 with 1 Axes>"
      ]
     },
     "metadata": {},
     "output_type": "display_data"
    }
   ],
   "source": [
    "# Import visualization libraries\n",
    "import matplotlib.pyplot as plt\n",
    "import seaborn as sns\n",
    "\n",
    "# Visualize similarity distribution\n",
    "plt.figure(figsize=(10, 6))\n",
    "plt.hist([row['Similar1_Score'] for row in results], alpha=0.5, label='Top 1')\n",
    "plt.hist([row['Similar2_Score'] for row in results], alpha=0.5, label='Top 2')\n",
    "plt.hist([row['Similar3_Score'] for row in results], alpha=0.5, label='Top 3')\n",
    "plt.title('Distribution of Similarity Scores')\n",
    "plt.xlabel('Similarity Score')\n",
    "plt.ylabel('Frequency')\n",
    "plt.legend()\n",
    "plt.show()"
   ]
  },
  {
   "cell_type": "code",
   "execution_count": null,
   "id": "9f46b158-a42d-4489-9daf-5283192fcf2c",
   "metadata": {},
   "outputs": [],
   "source": []
  }
 ],
 "metadata": {
  "kernelspec": {
   "display_name": "Python 3 (ipykernel)",
   "language": "python",
   "name": "python3"
  },
  "language_info": {
   "codemirror_mode": {
    "name": "ipython",
    "version": 3
   },
   "file_extension": ".py",
   "mimetype": "text/x-python",
   "name": "python",
   "nbconvert_exporter": "python",
   "pygments_lexer": "ipython3",
   "version": "3.12.7"
  }
 },
 "nbformat": 4,
 "nbformat_minor": 5
}
